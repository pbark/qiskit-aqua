{
 "cells": [
  {
   "cell_type": "code",
   "execution_count": 1,
   "metadata": {},
   "outputs": [],
   "source": [
    "# imports\n",
    "from qiskit.aqua import QuantumInstance\n",
    "from qiskit import BasicAer\n",
    "from qiskit.aqua.algorithms import NumPyMinimumEigensolver, VQE, IQPE\n",
    "from qiskit.aqua.components.optimizers import SLSQP\n",
    "from qiskit.chemistry.components.initial_states import HartreeFock\n",
    "from qiskit.circuit.library import ExcitationPreserving\n",
    "\n",
    "from qiskit.circuit.library import ExcitationPreserving\n",
    "\n",
    "from qiskit.chemistry.core import ChemistryOperator\n",
    "\n",
    "from qiskit import BasicAer\n",
    "from qiskit.aqua.algorithms import NumPyMinimumEigensolver, VQE\n",
    "from qiskit.aqua.components.optimizers import SLSQP\n",
    "from qiskit.chemistry.components.initial_states import HartreeFock\n",
    "from qiskit.chemistry.components.variational_forms import UCCSD\n",
    "from qiskit.chemistry.drivers import PySCFDriver, UnitsType\n",
    "from qiskit.chemistry.core import Hamiltonian, TransformationType, QubitMappingType\n",
    "from qiskit.aqua.algorithms import VQAlgorithm, VQE, MinimumEigensolver\n",
    "from qiskit.chemistry.qubit_transformations import FermionicTransformation\n",
    "from qiskit.chemistry.drivers import PySCFDriver\n",
    "from qiskit.chemistry.ground_state_calculation import MinimumEigensolverGroundStateCalculation\n",
    "import numpy as np"
   ]
  },
  {
   "cell_type": "code",
   "execution_count": 2,
   "metadata": {},
   "outputs": [],
   "source": [
    "# import BOPES\n",
    "from qiskit.chemistry.bopes_sampler import BOPESSampler"
   ]
  },
  {
   "cell_type": "code",
   "execution_count": 3,
   "metadata": {},
   "outputs": [],
   "source": [
    "ft = FermionicTransformation()\n",
    "driver = PySCFDriver()\n",
    "solver = VQE(quantum_instance=\n",
    "             QuantumInstance(backend=BasicAer.get_backend('statevector_simulator')))\n",
    "#solver = NumPyMinimumEigensolver()\n",
    "me_gsc = MinimumEigensolverGroundStateCalculation(ft, solver)"
   ]
  },
  {
   "cell_type": "code",
   "execution_count": 4,
   "metadata": {},
   "outputs": [],
   "source": [
    "# import molecule \n",
    "from qiskit.chemistry.drivers.molecule import Molecule\n",
    "from functools import partial"
   ]
  },
  {
   "cell_type": "code",
   "execution_count": 5,
   "metadata": {},
   "outputs": [],
   "source": [
    "stretch1 = partial(Molecule.absolute_stretching, atom_pair=(1, 0))\n",
    "mol = Molecule(geometry=[('H', [0., 0., 0.]),\n",
    "                        ('H', [0., 0., 1.])],\n",
    "                       degrees_of_freedom=[stretch1],\n",
    "                       )\n",
    "\n",
    "# pass molecule to PSYCF driver\n",
    "driver = PySCFDriver(molecule=mol)"
   ]
  },
  {
   "cell_type": "code",
   "execution_count": 6,
   "metadata": {},
   "outputs": [
    {
     "name": "stdout",
     "output_type": "stream",
     "text": [
      "Initial params , point:  None 0.45\n",
      "Optimal Params, point:  [ 3.14159265  0.41903001 -0.05228721  0.17150484 -1.34894084 -1.12881747\n",
      " -1.30370661  1.68887022] 0.45\n",
      "Initial params , point:  [ 3.14159265  0.41903001 -0.05228721  0.17150484 -1.34894084 -1.12881747\n",
      " -1.30370661  1.68887022] 1.5875\n",
      "Optimal Params, point:  [ 3.10770293  0.6595021  -0.12807697 -0.06794294 -1.37676968 -0.88780606\n",
      " -1.32970505  1.71230775] 1.5875\n",
      "Initial params , point:  [ 3.10770293  0.6595021  -0.12807697 -0.06794294 -1.37676968 -0.88780606\n",
      " -1.32970505  1.71230775] 2.725\n",
      "Optimal Params, point:  [ 3.10173252  0.70819063 -0.14072813 -0.11618482 -1.38383252 -0.83917111\n",
      " -1.33481993  1.71554334] 2.725\n",
      "Initial params , point:  [ 3.10173252  0.70819063 -0.14072813 -0.11618482 -1.38383252 -0.83917111\n",
      " -1.33481993  1.71554334] 3.8625\n",
      "Optimal Params, point:  [ 3.10110358  0.71321301 -0.14173348 -0.12117191 -1.38457136 -0.83419378\n",
      " -1.33499172  1.71550559] 3.8625\n",
      "Initial params , point:  [ 3.10110358  0.71321301 -0.14173348 -0.12117191 -1.38457136 -0.83419378\n",
      " -1.33499172  1.71550559] 5.0\n",
      "Optimal Params, point:  [ 3.10110358  0.71321301 -0.14173348 -0.12117191 -1.38457136 -0.83419378\n",
      " -1.33499172  1.71550559] 5.0\n"
     ]
    }
   ],
   "source": [
    "# BOPES sampler testing\n",
    "bs = BOPESSampler(gsc=me_gsc, driver=driver, \n",
    "                  bootstrap=True)\n",
    "points = np.linspace(0.45,5,5)\n",
    "bs_res = bs.run(points)"
   ]
  },
  {
   "cell_type": "code",
   "execution_count": null,
   "metadata": {},
   "outputs": [],
   "source": []
  }
 ],
 "metadata": {
  "kernelspec": {
   "display_name": "Python 3",
   "language": "python",
   "name": "python3"
  },
  "language_info": {
   "codemirror_mode": {
    "name": "ipython",
    "version": 3
   },
   "file_extension": ".py",
   "mimetype": "text/x-python",
   "name": "python",
   "nbconvert_exporter": "python",
   "pygments_lexer": "ipython3",
   "version": "3.8.2"
  }
 },
 "nbformat": 4,
 "nbformat_minor": 4
}
