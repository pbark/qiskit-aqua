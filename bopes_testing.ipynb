{
 "cells": [
  {
   "cell_type": "code",
   "execution_count": 40,
   "metadata": {},
   "outputs": [],
   "source": [
    "# imports\n",
    "\n",
    "import numpy as np\n",
    "import pandas as pd\n",
    "import matplotlib.pyplot as plt\n",
    "\n",
    "from qiskit.aqua import QuantumInstance\n",
    "from qiskit import BasicAer\n",
    "from qiskit.aqua.algorithms import NumPyMinimumEigensolver, VQE, IQPE\n",
    "from qiskit.aqua.components.optimizers import SLSQP\n",
    "from qiskit.chemistry.components.initial_states import HartreeFock\n",
    "from qiskit.circuit.library import ExcitationPreserving\n",
    "\n",
    "from qiskit.circuit.library import ExcitationPreserving\n",
    "\n",
    "from qiskit.chemistry.core import ChemistryOperator\n",
    "\n",
    "from qiskit import BasicAer\n",
    "from qiskit.aqua.algorithms import NumPyMinimumEigensolver, VQE\n",
    "from qiskit.aqua.components.optimizers import SLSQP\n",
    "from qiskit.chemistry.components.initial_states import HartreeFock\n",
    "from qiskit.chemistry.components.variational_forms import UCCSD\n",
    "from qiskit.chemistry.drivers import PySCFDriver, UnitsType\n",
    "from qiskit.chemistry.core import Hamiltonian, TransformationType, QubitMappingType\n",
    "from qiskit.aqua.algorithms import VQAlgorithm, VQE, MinimumEigensolver\n",
    "from qiskit.chemistry.qubit_transformations import FermionicTransformation\n",
    "from qiskit.chemistry.drivers import PySCFDriver\n",
    "from qiskit.chemistry.ground_state_calculation import MinimumEigensolverGroundStateCalculation\n",
    "from qiskit.chemistry.extrapolator import *\n",
    "\n",
    "import warnings\n",
    "warnings.simplefilter('ignore', np.RankWarning)"
   ]
  },
  {
   "cell_type": "code",
   "execution_count": 2,
   "metadata": {},
   "outputs": [],
   "source": [
    "# import BOPES\n",
    "from qiskit.chemistry.bopes_sampler import BOPESSampler"
   ]
  },
  {
   "cell_type": "code",
   "execution_count": 3,
   "metadata": {},
   "outputs": [],
   "source": [
    "ft = FermionicTransformation()\n",
    "driver = PySCFDriver()\n",
    "solver = VQE(quantum_instance=\n",
    "             QuantumInstance(backend=BasicAer.get_backend('statevector_simulator')))\n",
    "#solver = NumPyMinimumEigensolver()\n",
    "me_gsc = MinimumEigensolverGroundStateCalculation(ft, solver)"
   ]
  },
  {
   "cell_type": "code",
   "execution_count": 4,
   "metadata": {},
   "outputs": [],
   "source": [
    "# import molecule \n",
    "from qiskit.chemistry.drivers.molecule import Molecule\n",
    "from functools import partial"
   ]
  },
  {
   "cell_type": "code",
   "execution_count": 5,
   "metadata": {},
   "outputs": [],
   "source": [
    "stretch1 = partial(Molecule.absolute_stretching, atom_pair=(1, 0))\n",
    "mol = Molecule(geometry=[('H', [0., 0., 0.]),\n",
    "                        ('H', [0., 0., 0.3])],\n",
    "                       degrees_of_freedom=[stretch1],\n",
    "                       )\n",
    "\n",
    "# pass molecule to PSYCF driver\n",
    "driver = PySCFDriver(molecule=mol)"
   ]
  },
  {
   "cell_type": "code",
   "execution_count": 29,
   "metadata": {},
   "outputs": [],
   "source": [
    "# BOPES sampler testing\n",
    "bs = BOPESSampler(gsc=me_gsc, driver=driver, \n",
    "                  bootstrap=True, num_bootstrap=3)\n",
    "points = np.linspace(0.1,3,8)\n",
    "res = bs.compute_surface(points)"
   ]
  },
  {
   "cell_type": "code",
   "execution_count": 30,
   "metadata": {},
   "outputs": [
    {
     "name": "stdout",
     "output_type": "stream",
     "text": [
      "<qiskit.chemistry.results.bopes_sampler_result.BOPESSamplerResult object at 0x1327cc940>\n"
     ]
    }
   ],
   "source": [
    "print(res)"
   ]
  },
  {
   "cell_type": "code",
   "execution_count": 41,
   "metadata": {},
   "outputs": [],
   "source": [
    "# Extrapolate testing\n",
    "\n",
    "extrap_poly = Extrapolator.factory(\"poly\", degree = 2)\n",
    "extrapolator = Extrapolator.factory(\"window\", extrapolator = extrap_poly)\n",
    "window_extrapolator = Extrapolator.factory(\"window\",\n",
    "                                           extrapolator=extrapolator)\n",
    "bs_extr = BOPESSampler(gsc=me_gsc, driver=driver, bootstrap=True, num_bootstrap=3, extrapolator = window_extrapolator)\n",
    "res_extr = bs_extr.compute_surface(points)"
   ]
  },
  {
   "cell_type": "code",
   "execution_count": 42,
   "metadata": {},
   "outputs": [],
   "source": [
    "energies = []\n",
    "energies_extr = []\n",
    "bs_res_full = res.full_results\n",
    "bs_res_full_extr = res_extr.full_results\n",
    "for point in points:\n",
    "    energy = bs_res_full[point]['computed_electronic_energy'] + bs_res_full[point]['nuclear_repulsion_energy']\n",
    "    energy_extr = bs_res_full_extr[point]['computed_electronic_energy'] + bs_res_full_extr[point]['nuclear_repulsion_energy']\n",
    "    energies.append(energy)\n",
    "    energies_extr.append(energy_extr)"
   ]
  },
  {
   "cell_type": "code",
   "execution_count": 43,
   "metadata": {
    "scrolled": true
   },
   "outputs": [
    {
     "data": {
      "text/plain": [
       "Text(0, 0.5, 'Energy')"
      ]
     },
     "execution_count": 43,
     "metadata": {},
     "output_type": "execute_result"
    },
    {
     "data": {
      "image/png": "[encoded data removed]",
      "text/plain": [
       "<Figure size 432x288 with 1 Axes>"
      ]
     },
     "metadata": {
      "needs_background": "light"
     },
     "output_type": "display_data"
    }
   ],
   "source": [
    "fig = plt.figure()\n",
    "plt.plot(points,energies,label = 'bootstrapping')\n",
    "plt.plot(points,energies_extr,label = 'bootstrapping with extrap')\n",
    "plt.legend()\n",
    "plt.title('Dissociation profile')\n",
    "plt.xlabel('Interatomic distance')\n",
    "plt.ylabel('Energy')"
   ]
  },
  {
   "cell_type": "code",
   "execution_count": 44,
   "metadata": {},
   "outputs": [
    {
     "name": "stdout",
     "output_type": "stream",
     "text": [
      "81\n",
      "40\n",
      "40\n",
      "61\n",
      "80\n",
      "50\n",
      "41\n",
      "40\n"
     ]
    }
   ],
   "source": [
    "bs = bs_res_full_extr\n",
    "for key in bs:\n",
    "    print(bs[key]['raw_result']['cost_function_evals'])"
   ]
  },
  {
   "cell_type": "code",
   "execution_count": 45,
   "metadata": {},
   "outputs": [],
   "source": [
    "from qiskit.chemistry.energy_surface_spline import EnergySurface1DSpline\n",
    "energy_surface = EnergySurface1DSpline()\n",
    "\n",
    "# fit data\n",
    "xdata = res.points\n",
    "ydata = res.energies\n",
    "energy_surface.fit_to_data(xdata=xdata, ydata=ydata)"
   ]
  },
  {
   "cell_type": "code",
   "execution_count": 46,
   "metadata": {},
   "outputs": [
    {
     "data": {
      "text/plain": [
       "(-1.1546014935293454, -0.8922903821562954)"
      ]
     },
     "execution_count": 46,
     "metadata": {},
     "output_type": "execute_result"
    },
    {
     "data": {
      "image/png": "[encoded data removed]",
      "text/plain": [
       "<Figure size 432x288 with 1 Axes>"
      ]
     },
     "metadata": {
      "needs_background": "light"
     },
     "output_type": "display_data"
    }
   ],
   "source": [
    "plt.plot(xdata, ydata, 'kx')\n",
    "x = np.arange(min(xdata) - 0.25, max(xdata) + 0.25, 0.05)\n",
    "plt.plot(x, energy_surface.eval(x), 'r-')\n",
    "plt.xlabel(r'distance, $\\AA$')\n",
    "plt.ylabel('energy, Hartree')\n",
    "dist = max(ydata) - min(ydata)\n",
    "plt.ylim(min(ydata) - 0.1 * dist, max(ydata) + 0.1 * dist)"
   ]
  }
 ],
 "metadata": {
  "kernelspec": {
   "display_name": "Python 3",
   "language": "python",
   "name": "python3"
  },
  "language_info": {
   "codemirror_mode": {
    "name": "ipython",
    "version": 3
   },
   "file_extension": ".py",
   "mimetype": "text/x-python",
   "name": "python",
   "nbconvert_exporter": "python",
   "pygments_lexer": "ipython3",
   "version": "3.6.12"
  }
 },
 "nbformat": 4,
 "nbformat_minor": 4
}
