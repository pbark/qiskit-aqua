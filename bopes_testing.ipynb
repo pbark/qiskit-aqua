{
 "cells": [
  {
   "cell_type": "code",
   "execution_count": 1,
   "metadata": {},
   "outputs": [],
   "source": [
    "# imports\n",
    "from qiskit.aqua import QuantumInstance\n",
    "from qiskit import BasicAer\n",
    "from qiskit.aqua.algorithms import NumPyMinimumEigensolver, VQE, IQPE\n",
    "from qiskit.aqua.components.optimizers import SLSQP\n",
    "from qiskit.chemistry.components.initial_states import HartreeFock\n",
    "from qiskit.circuit.library import ExcitationPreserving\n",
    "\n",
    "from qiskit.circuit.library import ExcitationPreserving\n",
    "\n",
    "from qiskit.chemistry.core import ChemistryOperator\n",
    "\n",
    "from qiskit import BasicAer\n",
    "from qiskit.aqua.algorithms import NumPyMinimumEigensolver, VQE\n",
    "from qiskit.aqua.components.optimizers import SLSQP\n",
    "from qiskit.chemistry.components.initial_states import HartreeFock\n",
    "from qiskit.chemistry.components.variational_forms import UCCSD\n",
    "from qiskit.chemistry.drivers import PySCFDriver, UnitsType\n",
    "from qiskit.chemistry.core import Hamiltonian, TransformationType, QubitMappingType\n",
    "from qiskit.aqua.algorithms import VQAlgorithm, VQE, MinimumEigensolver\n",
    "from qiskit.chemistry.qubit_transformations import FermionicTransformation\n",
    "from qiskit.chemistry.drivers import PySCFDriver\n",
    "from qiskit.chemistry.ground_state_calculation import MinimumEigensolverGroundStateCalculation"
   ]
  },
  {
   "cell_type": "code",
   "execution_count": 2,
   "metadata": {},
   "outputs": [],
   "source": [
    "# import BOPES\n",
    "from qiskit.chemistry.bopes_sampler import BOPESSampler"
   ]
  },
  {
   "cell_type": "code",
   "execution_count": 3,
   "metadata": {},
   "outputs": [],
   "source": [
    "ft = FermionicTransformation()\n",
    "driver = PySCFDriver()\n",
    "solver = VQE(quantum_instance=\n",
    "             QuantumInstance(backend=BasicAer.get_backend('statevector_simulator')))\n",
    "#solver = NumPyMinimumEigensolver()\n",
    "me_gsc = MinimumEigensolverGroundStateCalculation(ft, solver)"
   ]
  },
  {
   "cell_type": "code",
   "execution_count": 4,
   "metadata": {},
   "outputs": [],
   "source": [
    "# import molecule \n",
    "from qiskit.chemistry.drivers.molecule import Molecule\n",
    "from functools import partial"
   ]
  },
  {
   "cell_type": "code",
   "execution_count": 5,
   "metadata": {},
   "outputs": [],
   "source": [
    "stretch1 = partial(Molecule.absolute_stretching, atom_pair=(1, 0))\n",
    "mol = Molecule(geometry=[('H', [0., 0., 0.]),\n",
    "                        ('H', [0., 0., 1.])],\n",
    "                       degrees_of_freedom=[stretch1],\n",
    "                       )\n",
    "\n",
    "# pass molecule to PSYCF driver\n",
    "driver = PySCFDriver(molecule=mol)"
   ]
  },
  {
   "cell_type": "code",
   "execution_count": 6,
   "metadata": {},
   "outputs": [
    {
     "name": "stdout",
     "output_type": "stream",
     "text": [
      "Initial params , point:  None 0\n",
      "[]\n",
      "Optimal Params, point:  [-1.12391558 -0.62909081  1.69390607  2.20470298  1.59865125  2.2031501\n",
      "  0.70632102  1.7283395 ] 0\n",
      "Initial params , point:  None 1\n",
      "[0]\n",
      "Optimal Params, point:  [-1.10378126 -0.44494107  1.94961058  2.57538256  1.57001688  1.98307187\n",
      "  0.69697354  1.73121102] 1\n",
      "Initial params , point:  [-1.12391558 -0.62909081  1.69390607  2.20470298  1.59865125  2.2031501\n",
      "  0.70632102  1.7283395 ] 2\n",
      "[0, 1]\n",
      "Optimal Params, point:  [-1.05447419 -0.35869892  2.03844965  2.73274971  1.51696677  1.85549196\n",
      "  0.69618112  1.7473939 ] 2\n",
      "Initial params , point:  [-1.12391558 -0.62909081  1.69390607  2.20470298  1.59865125  2.2031501\n",
      "  0.70632102  1.7283395 ] 3\n",
      "[0, 1, 2]\n",
      "Optimal Params, point:  [-1.05009804 -0.34410614  2.05842091  2.76278691  1.51202842  1.83577311\n",
      "  0.69459317  1.74948524] 3\n",
      "Initial params , point:  [-1.12391558 -0.62909081  1.69390607  2.20470298  1.59865125  2.2031501\n",
      "  0.70632102  1.7283395 ] 4\n",
      "[0, 1, 2, 3]\n",
      "Optimal Params, point:  [-1.04935939 -0.34236895  2.0609522   2.76643697  1.511444    1.83338751\n",
      "  0.69470999  1.74993206] 4\n",
      "Initial params , point:  [-1.12391558 -0.62909081  1.69390607  2.20470298  1.59865125  2.2031501\n",
      "  0.70632102  1.7283395 ] 5\n",
      "[0, 1, 2, 3, 4]\n",
      "Optimal Params, point:  [-1.04915243 -0.34225594  2.06117786  2.76670053  1.51139675  1.83320847\n",
      "  0.6949464   1.75008519] 5\n"
     ]
    }
   ],
   "source": [
    "# BOPES sampler testing\n",
    "bs = BOPESSampler(gsc=me_gsc, driver=driver, \n",
    "                  bootstrap=True)\n",
    "\n",
    "bs_res = bs.run([0,1,2,3,4,5])"
   ]
  },
  {
   "cell_type": "code",
   "execution_count": null,
   "metadata": {},
   "outputs": [],
   "source": []
  }
 ],
 "metadata": {
  "kernelspec": {
   "display_name": "Python 3",
   "language": "python",
   "name": "python3"
  },
  "language_info": {
   "codemirror_mode": {
    "name": "ipython",
    "version": 3
   },
   "file_extension": ".py",
   "mimetype": "text/x-python",
   "name": "python",
   "nbconvert_exporter": "python",
   "pygments_lexer": "ipython3",
   "version": "3.8.2"
  }
 },
 "nbformat": 4,
 "nbformat_minor": 4
}
