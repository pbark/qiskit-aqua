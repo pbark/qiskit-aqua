{
 "cells": [
  {
   "cell_type": "code",
   "execution_count": 1,
   "metadata": {},
   "outputs": [],
   "source": [
    "# imports\n",
    "\n",
    "import numpy as np\n",
    "import pandas as pd\n",
    "import matplotlib.pyplot as plt\n",
    "\n",
    "from qiskit.aqua import QuantumInstance\n",
    "from qiskit import BasicAer\n",
    "from qiskit.aqua.algorithms import NumPyMinimumEigensolver, VQE, IQPE\n",
    "from qiskit.aqua.components.optimizers import SLSQP\n",
    "from qiskit.chemistry.components.initial_states import HartreeFock\n",
    "from qiskit.circuit.library import ExcitationPreserving\n",
    "\n",
    "from qiskit.circuit.library import ExcitationPreserving\n",
    "\n",
    "from qiskit.chemistry.core import ChemistryOperator\n",
    "\n",
    "from qiskit import BasicAer\n",
    "from qiskit.aqua.algorithms import NumPyMinimumEigensolver, VQE\n",
    "from qiskit.aqua.components.optimizers import SLSQP\n",
    "from qiskit.chemistry.components.initial_states import HartreeFock\n",
    "from qiskit.chemistry.components.variational_forms import UCCSD\n",
    "from qiskit.chemistry.drivers import PySCFDriver, UnitsType\n",
    "from qiskit.chemistry.core import Hamiltonian, TransformationType, QubitMappingType\n",
    "from qiskit.aqua.algorithms import VQAlgorithm, VQE, MinimumEigensolver\n",
    "from qiskit.chemistry.qubit_transformations import FermionicTransformation\n",
    "from qiskit.chemistry.drivers import PySCFDriver\n",
    "from qiskit.chemistry.ground_state_calculation import MinimumEigensolverGroundStateCalculation"
   ]
  },
  {
   "cell_type": "code",
   "execution_count": 2,
   "metadata": {},
   "outputs": [],
   "source": [
    "# import BOPES\n",
    "from qiskit.chemistry.bopes_sampler import BOPESSampler"
   ]
  },
  {
   "cell_type": "code",
   "execution_count": 3,
   "metadata": {},
   "outputs": [],
   "source": [
    "ft = FermionicTransformation()\n",
    "driver = PySCFDriver()\n",
    "solver = VQE(quantum_instance=\n",
    "             QuantumInstance(backend=BasicAer.get_backend('statevector_simulator')))\n",
    "#solver = NumPyMinimumEigensolver()\n",
    "me_gsc = MinimumEigensolverGroundStateCalculation(ft, solver)"
   ]
  },
  {
   "cell_type": "code",
   "execution_count": 4,
   "metadata": {},
   "outputs": [],
   "source": [
    "# import molecule \n",
    "from qiskit.chemistry.drivers.molecule import Molecule\n",
    "from functools import partial"
   ]
  },
  {
   "cell_type": "code",
   "execution_count": 5,
   "metadata": {},
   "outputs": [],
   "source": [
    "stretch1 = partial(Molecule.absolute_stretching, atom_pair=(1, 0))\n",
    "mol = Molecule(geometry=[('H', [0., 0., 0.]),\n",
    "                        ('H', [0., 0., 0.3])],\n",
    "                       degrees_of_freedom=[stretch1],\n",
    "                       )\n",
    "\n",
    "# pass molecule to PSYCF driver\n",
    "driver = PySCFDriver(molecule=mol)"
   ]
  },
  {
   "cell_type": "code",
   "execution_count": 6,
   "metadata": {},
   "outputs": [],
   "source": [
    "# BOPES sampler testing\n",
    "bs = BOPESSampler(gsc=me_gsc, driver=driver, \n",
    "                  bootstrap=True, num_bootstrap=3)\n",
    "points = np.linspace(0.1,3,8)\n",
    "bs_res_full, bs_res = bs.compute_surface(points)"
   ]
  },
  {
   "cell_type": "code",
   "execution_count": 7,
   "metadata": {},
   "outputs": [
    {
     "data": {
      "text/plain": [
       "{'raw_result': {'optimal_parameters': {Parameter(θ[0]): -0.019921922628228363, Parameter(θ[1]): 2.3819530246357403, Parameter(θ[2]): -1.1936647040170125, Parameter(θ[3]): -0.2655023909650996, Parameter(θ[4]): -2.7315700885937675, Parameter(θ[5]): 0.10015587897904374, Parameter(θ[6]): 0.8626286707628738, Parameter(θ[7]): -0.9913090347030158}, 'optimal_point': array([-0.01992192,  2.38195302, -1.1936647 , -0.26550239, -2.73157009,\n",
       "         0.10015588,  0.86262867, -0.99130903]), 'optimal_value': -2.2370926496820736, 'optimizer_evals': 77, 'optimizer_time': 1.8427319526672363, 'eigenvalue': (-2.2370926496820736+0j), 'eigenstate': array([-2.03364438e-04+0.j, -9.98229836e-01+0.j,  5.94739424e-02+0.j,\n",
       "        -5.40585456e-05+0.j]), 'aux_operator_eigenvalues': array([[1.999999999999999],\n",
       "        [2.229224952e-08],\n",
       "        [0.0],\n",
       "        [0.0],\n",
       "        [0.0],\n",
       "        [0.7562657165144089]], dtype=object), 'cost_function_evals': 77},\n",
       " 'eigenvalue': (-2.2370926496820736+0j),\n",
       " 'aux_values': array([[1.999999999999999],\n",
       "        [2.229224952e-08],\n",
       "        [0.0],\n",
       "        [0.0],\n",
       "        [0.0],\n",
       "        [0.7562657165144089]], dtype=object),\n",
       " 'computed_electronic_energy': -2.2370926496820736,\n",
       " 'hartree_fock_energy': -0.9043613941635393,\n",
       " 'nuclear_repulsion_energy': 1.3229430273,\n",
       " 'nuclear_dipole_moment': (0.0, 0.0, 0.75589045),\n",
       " 'ph_extracted_energy': 0.0,\n",
       " 'frozen_extracted_energy': 0.0,\n",
       " 'num_particles': 1.999999999999999,\n",
       " 'total_angular_momentum': 2.229224952e-08,\n",
       " 'magnetization': 0.0,\n",
       " 'reverse_dipole_sign': True,\n",
       " 'computed_dipole_moment': (0.0, 0.0, 0.7562657165144089),\n",
       " 'ph_extracted_dipole_moment': (0.0, 0.0, 0.0),\n",
       " 'frozen_extracted_dipole_moment': (0.0, 0.0, 0.0)}"
      ]
     },
     "execution_count": 7,
     "metadata": {},
     "output_type": "execute_result"
    }
   ],
   "source": [
    "bs_res_full[0.1]"
   ]
  },
  {
   "cell_type": "code",
   "execution_count": 8,
   "metadata": {},
   "outputs": [],
   "source": [
    "energies = []\n",
    "for point in points:\n",
    "    energy = bs_res_full[point]['computed_electronic_energy'] + bs_res_full[point]['nuclear_repulsion_energy']\n",
    "    energies.append(energy)"
   ]
  },
  {
   "cell_type": "code",
   "execution_count": 9,
   "metadata": {
    "scrolled": true
   },
   "outputs": [
    {
     "name": "stderr",
     "output_type": "stream",
     "text": [
      "No handles with labels found to put in legend.\n"
     ]
    },
    {
     "data": {
      "text/plain": [
       "Text(0, 0.5, 'Energy')"
      ]
     },
     "execution_count": 9,
     "metadata": {},
     "output_type": "execute_result"
    },
    {
     "data": {
      "image/png": "[encoded data removed]",
      "text/plain": [
       "<Figure size 432x288 with 1 Axes>"
      ]
     },
     "metadata": {
      "needs_background": "light"
     },
     "output_type": "display_data"
    }
   ],
   "source": [
    "fig = plt.figure()\n",
    "plt.plot(points,energies)\n",
    "plt.legend()\n",
    "plt.title('Dissociation profile')\n",
    "plt.xlabel('Interatomic distance')\n",
    "plt.ylabel('Energy')"
   ]
  },
  {
   "cell_type": "code",
   "execution_count": 10,
   "metadata": {},
   "outputs": [
    {
     "data": {
      "text/plain": [
       "[-0.9141496223820735,\n",
       " -1.132742431340317,\n",
       " -1.050442027287337,\n",
       " -0.9779959640850278,\n",
       " -0.9460488963169131,\n",
       " -0.9363511310448827,\n",
       " -0.9338791466765297,\n",
       " -0.9333082425417326]"
      ]
     },
     "execution_count": 10,
     "metadata": {},
     "output_type": "execute_result"
    }
   ],
   "source": [
    "bs_res['energy']"
   ]
  },
  {
   "cell_type": "code",
   "execution_count": 11,
   "metadata": {},
   "outputs": [],
   "source": [
    "from qiskit.chemistry.energy_surface_spline import EnergySurface1DSpline\n",
    "energy_surface = EnergySurface1DSpline()\n",
    "\n",
    "# fit data\n",
    "xdata = bs_res['point']\n",
    "ydata = bs_res['energy']\n",
    "energy_surface.fit_to_data(xdata=xdata, ydata=ydata)\n",
    "\n",
    "# newx = np.unique(xdata)\n",
    "# newy = [np.average(ydata[np.where(xdata== val)[0][0]])\n",
    "#          for val in np.unique(xdata)]\n",
    "# print(newx)\n",
    "# print(newy)\n",
    "# print(xdata)\n",
    "# print(ydata)\n",
    "# # for val in np.unique(xdata):\n",
    "# #     #print(val)\n",
    "# #     print(np.where(xdata == val)[0])"
   ]
  },
  {
   "cell_type": "code",
   "execution_count": 12,
   "metadata": {},
   "outputs": [
    {
     "data": {
      "text/plain": [
       "(-1.1546017122361412, -0.8922903414862492)"
      ]
     },
     "execution_count": 12,
     "metadata": {},
     "output_type": "execute_result"
    },
    {
     "data": {
      "image/png": "[encoded data removed]",
      "text/plain": [
       "<Figure size 432x288 with 1 Axes>"
      ]
     },
     "metadata": {
      "needs_background": "light"
     },
     "output_type": "display_data"
    }
   ],
   "source": [
    "plt.plot(xdata, ydata, 'kx')\n",
    "x = np.arange(min(xdata) - 0.25, max(xdata) + 0.25, 0.05)\n",
    "plt.plot(x, energy_surface.eval(x), 'r-')\n",
    "plt.xlabel(r'distance, $\\AA$')\n",
    "plt.ylabel('energy, Hartree')\n",
    "dist = max(ydata) - min(ydata)\n",
    "plt.ylim(min(ydata) - 0.1 * dist, max(ydata) + 0.1 * dist)"
   ]
  },
  {
   "cell_type": "code",
   "execution_count": null,
   "metadata": {},
   "outputs": [],
   "source": []
  }
 ],
 "metadata": {
  "kernelspec": {
   "display_name": "Python 3",
   "language": "python",
   "name": "python3"
  },
  "language_info": {
   "codemirror_mode": {
    "name": "ipython",
    "version": 3
   },
   "file_extension": ".py",
   "mimetype": "text/x-python",
   "name": "python",
   "nbconvert_exporter": "python",
   "pygments_lexer": "ipython3",
   "version": "3.8.5"
  }
 },
 "nbformat": 4,
 "nbformat_minor": 4
}
