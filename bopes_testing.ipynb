{
 "cells": [
  {
   "cell_type": "code",
   "execution_count": 1,
   "metadata": {},
   "outputs": [],
   "source": [
    "# imports\n",
    "\n",
    "import numpy as np\n",
    "import pandas as pd\n",
    "import matplotlib.pyplot as plt\n",
    "\n",
    "from qiskit.aqua import QuantumInstance\n",
    "from qiskit import BasicAer\n",
    "from qiskit.aqua.algorithms import NumPyMinimumEigensolver, VQE, IQPE\n",
    "from qiskit.aqua.components.optimizers import SLSQP\n",
    "from qiskit.chemistry.components.initial_states import HartreeFock\n",
    "from qiskit.circuit.library import ExcitationPreserving\n",
    "\n",
    "from qiskit.circuit.library import ExcitationPreserving\n",
    "\n",
    "from qiskit.chemistry.core import ChemistryOperator\n",
    "\n",
    "from qiskit import BasicAer\n",
    "from qiskit.aqua.algorithms import NumPyMinimumEigensolver, VQE\n",
    "from qiskit.aqua.components.optimizers import SLSQP\n",
    "from qiskit.chemistry.components.initial_states import HartreeFock\n",
    "from qiskit.chemistry.components.variational_forms import UCCSD\n",
    "from qiskit.chemistry.drivers import PySCFDriver, UnitsType\n",
    "from qiskit.chemistry.core import Hamiltonian, TransformationType, QubitMappingType\n",
    "from qiskit.aqua.algorithms import VQAlgorithm, VQE, MinimumEigensolver\n",
    "from qiskit.chemistry.qubit_transformations import FermionicTransformation\n",
    "from qiskit.chemistry.drivers import PySCFDriver\n",
    "from qiskit.chemistry.ground_state_calculation import MinimumEigensolverGroundStateCalculation\n"
   ]
  },
  {
   "cell_type": "code",
   "execution_count": 2,
   "metadata": {},
   "outputs": [],
   "source": [
    "# import BOPES\n",
    "from qiskit.chemistry.bopes_sampler import BOPESSampler"
   ]
  },
  {
   "cell_type": "code",
   "execution_count": 3,
   "metadata": {},
   "outputs": [],
   "source": [
    "ft = FermionicTransformation()\n",
    "driver = PySCFDriver()\n",
    "solver = VQE(quantum_instance=\n",
    "             QuantumInstance(backend=BasicAer.get_backend('statevector_simulator')))\n",
    "#solver = NumPyMinimumEigensolver()\n",
    "me_gsc = MinimumEigensolverGroundStateCalculation(ft, solver)"
   ]
  },
  {
   "cell_type": "code",
   "execution_count": 4,
   "metadata": {},
   "outputs": [],
   "source": [
    "# import molecule \n",
    "from qiskit.chemistry.drivers.molecule import Molecule\n",
    "from functools import partial"
   ]
  },
  {
   "cell_type": "code",
   "execution_count": 5,
   "metadata": {},
   "outputs": [],
   "source": [
    "stretch1 = partial(Molecule.absolute_stretching, atom_pair=(1, 0))\n",
    "mol = Molecule(geometry=[('H', [0., 0., 0.]),\n",
    "                        ('H', [0., 0., 1.])],\n",
    "                       degrees_of_freedom=[stretch1],\n",
    "                       )\n",
    "\n",
    "# pass molecule to PSYCF driver\n",
    "driver = PySCFDriver(molecule=mol)"
   ]
  },
  {
   "cell_type": "code",
   "execution_count": 6,
   "metadata": {},
   "outputs": [
    {
     "name": "stdout",
     "output_type": "stream",
     "text": [
      "Initial params , point:  None 0.45\n",
      "Optimal Params, point:  [-0.05405075  0.91116469 -1.76863314  0.50287458  0.20872956  0.68355998\n",
      " -1.52480061 -1.38226501] 0.45\n",
      "Initial params , point:  [-0.05405075  0.91116469 -1.76863314  0.50287458  0.20872956  0.68355998\n",
      " -1.52480061 -1.38226501] 1.5875\n",
      "Optimal Params, point:  [ 0.24704731  0.86778035 -1.78049834  0.45987495  0.29302383  1.17904506\n",
      " -1.57056077 -1.31541605] 1.5875\n",
      "Initial params , point:  [ 0.24704731  0.86778035 -1.78049834  0.45987495  0.29302383  1.17904506\n",
      " -1.57056077 -1.31541605] 2.725\n",
      "Optimal Params, point:  [ 0.30535248  0.84471971 -1.77840152  0.4542277   0.3152173   1.26895491\n",
      " -1.56557546 -1.2952582 ] 2.725\n",
      "Initial params , point:  [ 0.30535248  0.84471971 -1.77840152  0.4542277   0.3152173   1.26895491\n",
      " -1.56557546 -1.2952582 ] 3.8625\n",
      "Optimal Params, point:  [ 0.3115126   0.84230807 -1.77819184  0.45392583  0.31767011  1.27829246\n",
      " -1.5650372  -1.29274389] 3.8625\n",
      "Initial params , point:  [ 0.3115126   0.84230807 -1.77819184  0.45392583  0.31767011  1.27829246\n",
      " -1.5650372  -1.29274389] 5.0\n",
      "Optimal Params, point:  [ 0.3115126   0.84230807 -1.77819184  0.45392583  0.31767011  1.27829246\n",
      " -1.5650372  -1.29274389] 5.0\n"
     ]
    }
   ],
   "source": [
    "# BOPES sampler testing\n",
    "bs = BOPESSampler(gsc=me_gsc, driver=driver, \n",
    "                  bootstrap=True)\n",
    "points = np.linspace(0.45,5,5)\n",
    "bs_res = bs.run(points)"
   ]
  },
  {
   "cell_type": "code",
   "execution_count": 8,
   "metadata": {},
   "outputs": [],
   "source": [
    "energies = []\n",
    "for point in points:\n",
    "    energy = bs_res[point]['computed_electronic_energy']\n",
    "    energies.append(energy)"
   ]
  },
  {
   "cell_type": "code",
   "execution_count": 9,
   "metadata": {},
   "outputs": [
    {
     "name": "stderr",
     "output_type": "stream",
     "text": [
      "No handles with labels found to put in legend.\n"
     ]
    },
    {
     "data": {
      "text/plain": [
       "Text(0, 0.5, 'Energy')"
      ]
     },
     "execution_count": 9,
     "metadata": {},
     "output_type": "execute_result"
    },
    {
     "data": {
      "image/png": "[encoded data removed]",
      "text/plain": [
       "<Figure size 432x288 with 1 Axes>"
      ]
     },
     "metadata": {
      "needs_background": "light"
     },
     "output_type": "display_data"
    }
   ],
   "source": [
    "fig = plt.figure()\n",
    "plt.plot(points,energies)\n",
    "plt.legend()\n",
    "plt.title('Dissociation profile')\n",
    "plt.xlabel('Interatomic distance')\n",
    "plt.ylabel('Energy')"
   ]
  },
  {
   "cell_type": "code",
   "execution_count": null,
   "metadata": {},
   "outputs": [],
   "source": []
  }
 ],
 "metadata": {
  "kernelspec": {
   "display_name": "Python 3",
   "language": "python",
   "name": "python3"
  },
  "language_info": {
   "codemirror_mode": {
    "name": "ipython",
    "version": 3
   },
   "file_extension": ".py",
   "mimetype": "text/x-python",
   "name": "python",
   "nbconvert_exporter": "python",
   "pygments_lexer": "ipython3",
   "version": "3.8.2"
  }
 },
 "nbformat": 4,
 "nbformat_minor": 4
}
